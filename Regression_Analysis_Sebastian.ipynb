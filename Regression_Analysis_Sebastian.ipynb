{
 "cells": [
  {
   "cell_type": "code",
   "execution_count": 1,
   "id": "9f0c640c",
   "metadata": {},
   "outputs": [],
   "source": [
    "# Importing libraries\n",
    "import pandas as pd # data science essentials\n",
    "import matplotlib.pyplot as plt # data visualization\n",
    "import seaborn as sns # enhanced data visualization\n",
    "import statsmodels.formula.api as smf # regression modeling\n",
    "from sklearn.model_selection import train_test_split # train/test split\n",
    "from sklearn.linear_model import LinearRegression\n",
    "\n",
    "# setting pandas print options\n",
    "pd.set_option('display.max_rows', 500)\n",
    "pd.set_option('display.max_columns', 500)\n",
    "pd.set_option('display.width', 1000)\n",
    "\n",
    "\n",
    "# specifying the path and file name\n",
    "file = './birthweight_low.xlsx'\n",
    "\n",
    "\n",
    "# reading the file into Python\n",
    "bwght = pd.read_excel(file)\n"
   ]
  },
  {
   "cell_type": "code",
   "execution_count": 2,
   "id": "f3181a83",
   "metadata": {},
   "outputs": [
    {
     "data": {
      "text/plain": [
       "mage      0\n",
       "meduc     3\n",
       "monpre    0\n",
       "npvis     3\n",
       "fage      0\n",
       "feduc     7\n",
       "omaps     0\n",
       "fmaps     0\n",
       "cigs      0\n",
       "drink     0\n",
       "male      0\n",
       "mwhte     0\n",
       "mblck     0\n",
       "moth      0\n",
       "fwhte     0\n",
       "fblck     0\n",
       "foth      0\n",
       "bwght     0\n",
       "dtype: int64"
      ]
     },
     "execution_count": 2,
     "metadata": {},
     "output_type": "execute_result"
    }
   ],
   "source": [
    "#Calculating missing values\n",
    "bwght.isnull().sum()"
   ]
  },
  {
   "cell_type": "code",
   "execution_count": 3,
   "id": "c5c29d92",
   "metadata": {},
   "outputs": [
    {
     "name": "stdout",
     "output_type": "stream",
     "text": [
      "meduc    14.0\n",
      "dtype: float64\n",
      "npvis    12.0\n",
      "dtype: float64\n",
      "feduc    14.0\n",
      "dtype: float64\n"
     ]
    }
   ],
   "source": [
    "#Getting the average of the variables with missing values\n",
    "print(bwght [[\"meduc\"]].mean().round(0))\n",
    "print(bwght[[\"npvis\"]].mean().round(0))\n",
    "print(bwght[[\"feduc\"]].mean().round(0))"
   ]
  },
  {
   "cell_type": "code",
   "execution_count": 4,
   "id": "a9d7bfc9",
   "metadata": {},
   "outputs": [],
   "source": [
    "#Filling the missing values with the averages\n",
    "\n",
    "# meduc\n",
    "fill = 14\n",
    "bwght['meduc'] = bwght['meduc'].fillna(fill)\n",
    "\n",
    "\n",
    "# npvis\n",
    "fill = 11\n",
    "bwght['npvis'] = bwght['npvis'].fillna(fill)\n",
    "\n",
    "\n",
    "# feduc\n",
    "fill = 13\n",
    "bwght['feduc'] = bwght['feduc'].fillna(fill)"
   ]
  },
  {
   "cell_type": "code",
   "execution_count": 5,
   "id": "f60b9aa8",
   "metadata": {},
   "outputs": [
    {
     "name": "stdout",
     "output_type": "stream",
     "text": [
      "fage +\n",
      "cigs +\n",
      "drink +\n",
      "fmaps +\n",
      "foth +\n"
     ]
    }
   ],
   "source": [
    "# Declaring set of x-variables\n",
    "x_variables = ['fage','cigs', 'drink', 'fmaps', 'foth']\n",
    "\n",
    "\n",
    "# Looping to make x-variables suitable for statsmodels\n",
    "for val in x_variables:\n",
    "    print(f\"{val} +\")"
   ]
  },
  {
   "cell_type": "code",
   "execution_count": 6,
   "id": "659c18f6",
   "metadata": {},
   "outputs": [
    {
     "name": "stdout",
     "output_type": "stream",
     "text": [
      "\n",
      "Training Data\n",
      "-------------\n",
      "X-side: (147, 5)\n",
      "y-side: (147,)\n",
      "\n",
      "\n",
      "Testing Data\n",
      "------------\n",
      "X-side: (49, 5)\n",
      "y-side: (49,)\n",
      "\n"
     ]
    }
   ],
   "source": [
    "# Preparing explanatory variable data\n",
    "bwght_data = bwght.loc[ : , x_variables]\n",
    "\n",
    "\n",
    "# preparing response variable data\n",
    "bwght_target = bwght.loc[ : , 'bwght']\n",
    "\n",
    "# preparing training and testing sets (all letters are lowercase)\n",
    "x_train, x_test, y_train, y_test = train_test_split(\n",
    "            bwght_data,\n",
    "            bwght_target,\n",
    "            test_size = 0.25,\n",
    "            random_state = 219)\n",
    "\n",
    "\n",
    "# checking the shapes of the datasets\n",
    "print(f\"\"\"\n",
    "Training Data\n",
    "-------------\n",
    "X-side: {x_train.shape}\n",
    "y-side: {y_train.shape}\n",
    "\n",
    "\n",
    "Testing Data\n",
    "------------\n",
    "X-side: {x_test.shape}\n",
    "y-side: {y_test.shape}\n",
    "\"\"\")"
   ]
  },
  {
   "cell_type": "code",
   "execution_count": 7,
   "id": "4299884d",
   "metadata": {},
   "outputs": [
    {
     "name": "stdout",
     "output_type": "stream",
     "text": [
      "                            OLS Regression Results                            \n",
      "==============================================================================\n",
      "Dep. Variable:                  bwght   R-squared:                       0.690\n",
      "Model:                            OLS   Adj. R-squared:                  0.682\n",
      "Method:                 Least Squares   F-statistic:                     79.15\n",
      "Date:                Wed, 24 Nov 2021   Prob (F-statistic):           3.55e-35\n",
      "Time:                        19:44:13   Log-Likelihood:                -1078.5\n",
      "No. Observations:                 147   AIC:                             2167.\n",
      "Df Residuals:                     142   BIC:                             2182.\n",
      "Df Model:                           4                                         \n",
      "Covariance Type:            nonrobust                                         \n",
      "==============================================================================\n",
      "                 coef    std err          t      P>|t|      [0.025      0.975]\n",
      "------------------------------------------------------------------------------\n",
      "Intercept   3726.5302    491.734      7.578      0.000    2754.465    4698.596\n",
      "fage         -12.2247      3.665     -3.336      0.001     -19.469      -4.980\n",
      "cigs         -37.2066      5.367     -6.932      0.000     -47.816     -26.597\n",
      "drink       -115.5762     11.538    -10.017      0.000    -138.385     -92.767\n",
      "fmaps        126.3701     48.799      2.590      0.011      29.904     222.836\n",
      "==============================================================================\n",
      "Omnibus:                        3.657   Durbin-Watson:                   1.786\n",
      "Prob(Omnibus):                  0.161   Jarque-Bera (JB):                4.046\n",
      "Skew:                           0.115   Prob(JB):                        0.132\n",
      "Kurtosis:                       3.779   Cond. No.                         684.\n",
      "==============================================================================\n",
      "\n",
      "Notes:\n",
      "[1] Standard Errors assume that the covariance matrix of the errors is correctly specified.\n"
     ]
    }
   ],
   "source": [
    "# merging X_train and y_train so that they can be used in statsmodels\n",
    "bwght_train = pd.concat([x_train, y_train], axis = 1)\n",
    "\n",
    "\n",
    "# build a model - All significant variables \n",
    "lm_best = smf.ols(formula =  \"\"\"bwght ~ fage +\n",
    "cigs +\n",
    "drink +\n",
    "fmaps\"\"\", \n",
    "                  data = bwght_train)\n",
    "\n",
    "\n",
    "# fit the model based on the data\n",
    "results = lm_best.fit()\n",
    "\n",
    "\n",
    "\n",
    "# analyze the summary output\n",
    "print(results.summary())"
   ]
  },
  {
   "cell_type": "code",
   "execution_count": 8,
   "id": "0bcd1b4a",
   "metadata": {},
   "outputs": [],
   "source": [
    "# applying model in scikit-learn\n",
    "\n",
    "# Preparing a DataFrame based the the analysis above\n",
    "ols_data   = bwght.loc[ : , x_variables]\n",
    "\n",
    "\n",
    "# Preparing the target variable\n",
    "bwght_target = bwght.loc[ : , 'bwght']\n",
    "\n",
    "\n",
    "\n",
    "#setting up more than one train-test split\n",
    "\n",
    "# FULL X-dataset (normal Y)\n",
    "x_train_FULL, x_test_FULL, y_train_FULL, y_test_FULL = train_test_split(\n",
    "            bwght_data,     # x-variables\n",
    "            bwght_target,   # y-variable\n",
    "            test_size = 0.25,\n",
    "            random_state = 219)\n",
    "\n",
    "\n",
    "# OLS p-value x-dataset (normal Y)\n",
    "x_train_OLS, x_test_OLS, y_train_OLS, y_test_OLS = train_test_split(\n",
    "            ols_data,         # x-variables\n",
    "            bwght_target,   # y-variable\n",
    "            test_size = 0.25,\n",
    "            random_state = 219)"
   ]
  },
  {
   "cell_type": "code",
   "execution_count": 9,
   "id": "6f465c0d",
   "metadata": {},
   "outputs": [
    {
     "name": "stdout",
     "output_type": "stream",
     "text": [
      "OLS Training Score : 0.6905\n",
      "OLS Testing Score  : 0.7102\n",
      "OLS Train-Test Gap : 0.0197\n"
     ]
    }
   ],
   "source": [
    "# INSTANTIATING a model object\n",
    "lr = LinearRegression()\n",
    "\n",
    "\n",
    "# FITTING to the training data\n",
    "lr_fit = lr.fit(x_train_OLS, y_train_OLS)\n",
    "\n",
    "\n",
    "# PREDICTING on new data\n",
    "lr_pred = lr_fit.predict(x_test_OLS)\n",
    "\n",
    "\n",
    "# SCORING the results\n",
    "print('OLS Training Score :', lr.score(x_train_OLS, y_train_OLS).round(4))  # using R-square\n",
    "print('OLS Testing Score  :',  lr.score(x_test_OLS, y_test_OLS).round(4)) # using R-square\n",
    "\n",
    "\n",
    "# saving scoring data for future use\n",
    "lr_train_score = lr.score(x_train_OLS, y_train_OLS).round(4) # using R-square\n",
    "lr_test_score  = lr.score(x_test_OLS, y_test_OLS).round(4)   # using R-square\n",
    "\n",
    "\n",
    "# displaying and saving the gap between training and testing\n",
    "print('OLS Train-Test Gap :', abs(lr_train_score - lr_test_score).round(4))\n",
    "lr_test_gap = abs(lr_train_score - lr_test_score).round(4)"
   ]
  },
  {
   "cell_type": "code",
   "execution_count": 10,
   "id": "600d636c",
   "metadata": {},
   "outputs": [],
   "source": [
    "import sklearn.linear_model # linear models"
   ]
  },
  {
   "cell_type": "code",
   "execution_count": 11,
   "id": "976cd1cd",
   "metadata": {},
   "outputs": [
    {
     "name": "stdout",
     "output_type": "stream",
     "text": [
      "Lasso Training Score : 0.6897\n",
      "Lasso Testing Score  : 0.7147\n",
      "Lasso Train-Test Gap : 0.025\n"
     ]
    },
    {
     "name": "stderr",
     "output_type": "stream",
     "text": [
      "/Users/sebastianurena/opt/anaconda3/lib/python3.8/site-packages/sklearn/linear_model/_base.py:141: FutureWarning: 'normalize' was deprecated in version 1.0 and will be removed in 1.2.\n",
      "If you wish to scale the data, use Pipeline with a StandardScaler in a preprocessing stage. To reproduce the previous behavior:\n",
      "\n",
      "from sklearn.pipeline import make_pipeline\n",
      "\n",
      "model = make_pipeline(StandardScaler(with_mean=False), Lasso())\n",
      "\n",
      "If you wish to pass a sample_weight parameter, you need to pass it as a fit parameter to each step of the pipeline as follows:\n",
      "\n",
      "kwargs = {s[0] + '__sample_weight': sample_weight for s in model.steps}\n",
      "model.fit(X, y, **kwargs)\n",
      "\n",
      "Set parameter alpha to: original_alpha * np.sqrt(n_samples). \n",
      "  warnings.warn(\n"
     ]
    }
   ],
   "source": [
    "# INSTANTIATING a model object\n",
    "lasso_model = sklearn.linear_model.Lasso(alpha = 0.9,\n",
    "                                         normalize = True) # default magitude\n",
    "\n",
    "\n",
    "# FITTING to the training data\n",
    "lasso_fit = lasso_model.fit(x_train_FULL, y_train_FULL)\n",
    "\n",
    "\n",
    "# PREDICTING on new data\n",
    "lasso_pred = lasso_fit.predict(x_test_FULL)\n",
    "\n",
    "\n",
    "# SCORING the results\n",
    "print('Lasso Training Score :', lasso_model.score(x_train_FULL, y_train_FULL).round(4))\n",
    "print('Lasso Testing Score  :', lasso_model.score(x_test_FULL, y_test_FULL).round(4))\n",
    "\n",
    "\n",
    "## the following code has been provided for you ##\n",
    "\n",
    "# saving scoring data for future use\n",
    "lasso_train_score = lasso_model.score(x_train_FULL, y_train_FULL).round(4) # using R-square\n",
    "lasso_test_score  = lasso_model.score(x_test_FULL, y_test_FULL).round(4)   # using R-square\n",
    "\n",
    "\n",
    "# displaying and saving the gap between training and testing\n",
    "print('Lasso Train-Test Gap :', abs(lasso_train_score - lasso_test_score).round(4))\n",
    "lasso_test_gap = abs(lasso_train_score - lasso_test_score).round(4)"
   ]
  },
  {
   "cell_type": "code",
   "execution_count": 12,
   "id": "579da518",
   "metadata": {},
   "outputs": [
    {
     "name": "stdout",
     "output_type": "stream",
     "text": [
      "Training Score: 0.69\n",
      "Testing Score : 0.7164\n",
      "ARD Train-Test Gap : 0.0264\n"
     ]
    }
   ],
   "source": [
    "# INSTANTIATING a model object\n",
    "ard_model = sklearn.linear_model.ARDRegression()\n",
    "\n",
    "\n",
    "# FITTING the training data\n",
    "ard_fit = ard_model.fit(x_train_FULL, y_train_FULL)\n",
    "\n",
    "\n",
    "# PREDICTING on new data\n",
    "ard_pred = ard_fit.predict(x_test_FULL)\n",
    "\n",
    "\n",
    "print('Training Score:', ard_model.score(x_train_FULL, y_train_FULL).round(4))\n",
    "print('Testing Score :', ard_model.score(x_test_FULL, y_test_FULL).round(4))\n",
    "\n",
    "\n",
    "# saving scoring data for future use\n",
    "ard_train_score = ard_model.score(x_train_FULL, y_train_FULL).round(4)\n",
    "ard_test_score  = ard_model.score(x_test_FULL, y_test_FULL).round(4)\n",
    "\n",
    "\n",
    "# displaying and saving the gap between training and testing\n",
    "print('ARD Train-Test Gap :', abs(ard_train_score - ard_test_score).round(4))\n",
    "ard_test_gap = abs(ard_train_score - ard_test_score).round(4)"
   ]
  },
  {
   "cell_type": "code",
   "execution_count": 14,
   "id": "960bfa03",
   "metadata": {},
   "outputs": [
    {
     "name": "stdout",
     "output_type": "stream",
     "text": [
      "\n",
      "Model      Train Score      Test Score       Train-Test Gap\n",
      "-----      -----------      -----------     ---------------     \n",
      "OLS        0.6905           0.7102            0.0197\n",
      "Lasso      0.6897           0.7147            0.025   \n",
      "*ARD       0.69             0.7164            0.0264\n",
      "\n",
      "*This is the final model\n"
     ]
    }
   ],
   "source": [
    "# Comparing results\n",
    "\n",
    "print(f\"\"\"\n",
    "Model      Train Score      Test Score       Train-Test Gap\n",
    "-----      -----------      -----------     ---------------     \n",
    "OLS        {lr_train_score}           {lr_test_score}            {abs(lr_train_score - lr_test_score).round(4)}\n",
    "Lasso      {lasso_train_score}           {lasso_test_score}            {abs(lasso_train_score - lasso_test_score).round(4)}   \n",
    "*ARD       {ard_train_score}             {ard_test_score}            {abs(ard_train_score - ard_test_score).round(4)}\n",
    "\n",
    "*This is the final model\"\"\")\n",
    "\n",
    "\n"
   ]
  },
  {
   "cell_type": "markdown",
   "id": "5e0d8c70",
   "metadata": {},
   "source": [
    "\n",
    "\n",
    "\n",
    "\n",
    "\n",
    "\n",
    "\n",
    "References:\n",
    "Chase Kusterer, Script 04 - Linear Regression."
   ]
  }
 ],
 "metadata": {
  "kernelspec": {
   "display_name": "Python 3 (ipykernel)",
   "language": "python",
   "name": "python3"
  },
  "language_info": {
   "codemirror_mode": {
    "name": "ipython",
    "version": 3
   },
   "file_extension": ".py",
   "mimetype": "text/x-python",
   "name": "python",
   "nbconvert_exporter": "python",
   "pygments_lexer": "ipython3",
   "version": "3.8.11"
  },
  "toc": {
   "base_numbering": 1,
   "nav_menu": {},
   "number_sections": true,
   "sideBar": true,
   "skip_h1_title": false,
   "title_cell": "Table of Contents",
   "title_sidebar": "Contents",
   "toc_cell": false,
   "toc_position": {},
   "toc_section_display": true,
   "toc_window_display": false
  },
  "varInspector": {
   "cols": {
    "lenName": 16,
    "lenType": 16,
    "lenVar": 40
   },
   "kernels_config": {
    "python": {
     "delete_cmd_postfix": "",
     "delete_cmd_prefix": "del ",
     "library": "var_list.py",
     "varRefreshCmd": "print(var_dic_list())"
    },
    "r": {
     "delete_cmd_postfix": ") ",
     "delete_cmd_prefix": "rm(",
     "library": "var_list.r",
     "varRefreshCmd": "cat(var_dic_list()) "
    }
   },
   "types_to_exclude": [
    "module",
    "function",
    "builtin_function_or_method",
    "instance",
    "_Feature"
   ],
   "window_display": false
  }
 },
 "nbformat": 4,
 "nbformat_minor": 5
}
